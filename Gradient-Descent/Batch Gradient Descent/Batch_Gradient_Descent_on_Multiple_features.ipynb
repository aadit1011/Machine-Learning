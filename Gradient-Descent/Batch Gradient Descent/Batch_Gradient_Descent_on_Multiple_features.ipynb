{
 "cells": [
  {
   "cell_type": "code",
   "execution_count": 28,
   "id": "93a16f03-b372-4bcd-80c2-f45257e8951f",
   "metadata": {
    "lines_to_end_of_cell_marker": 2
   },
   "outputs": [],
   "source": [
    "import pandas as pd \n",
    "import numpy as np \n",
    "import seaborn as sns \n",
    "import matplotlib.pyplot as plt \n",
    "from sklearn.datasets import load_diabetes"
   ]
  },
  {
   "cell_type": "code",
   "execution_count": 29,
   "id": "7f0885fb-91d0-4e07-aa4a-31742082b1c4",
   "metadata": {},
   "outputs": [
    {
     "data": {
      "text/plain": [
       "array([[ 0.03807591,  0.05068012,  0.06169621, ..., -0.00259226,\n",
       "         0.01990749, -0.01764613],\n",
       "       [-0.00188202, -0.04464164, -0.05147406, ..., -0.03949338,\n",
       "        -0.06833155, -0.09220405],\n",
       "       [ 0.08529891,  0.05068012,  0.04445121, ..., -0.00259226,\n",
       "         0.00286131, -0.02593034],\n",
       "       ...,\n",
       "       [ 0.04170844,  0.05068012, -0.01590626, ..., -0.01107952,\n",
       "        -0.04688253,  0.01549073],\n",
       "       [-0.04547248, -0.04464164,  0.03906215, ...,  0.02655962,\n",
       "         0.04452873, -0.02593034],\n",
       "       [-0.04547248, -0.04464164, -0.0730303 , ..., -0.03949338,\n",
       "        -0.00422151,  0.00306441]])"
      ]
     },
     "execution_count": 29,
     "metadata": {},
     "output_type": "execute_result"
    }
   ],
   "source": [
    "x,y=load_diabetes(return_X_y=True)\n",
    "x"
   ]
  },
  {
   "cell_type": "code",
   "execution_count": 30,
   "id": "9caa8fcc-5e85-41db-9110-01c2ddc086b9",
   "metadata": {},
   "outputs": [
    {
     "data": {
      "text/plain": [
       "(442, 10)"
      ]
     },
     "execution_count": 30,
     "metadata": {},
     "output_type": "execute_result"
    }
   ],
   "source": [
    "x.shape"
   ]
  },
  {
   "cell_type": "code",
   "execution_count": 31,
   "id": "5ccc05f3-540f-4b7e-817e-082785fb09cf",
   "metadata": {},
   "outputs": [
    {
     "data": {
      "text/plain": [
       "(442,)"
      ]
     },
     "execution_count": 31,
     "metadata": {},
     "output_type": "execute_result"
    }
   ],
   "source": [
    "y.shape "
   ]
  },
  {
   "cell_type": "code",
   "execution_count": 32,
   "id": "912b2c7f-2c38-4c13-b019-6c642c9389b5",
   "metadata": {},
   "outputs": [],
   "source": [
    "from sklearn.model_selection import train_test_split\n",
    "\n",
    "x_train,x_test,y_train,y_test=train_test_split(x,y,train_size=0.9,random_state=42)\n"
   ]
  },
  {
   "cell_type": "code",
   "execution_count": 33,
   "id": "7210cb65-ada4-405f-bb61-b9e6889e83c0",
   "metadata": {},
   "outputs": [
    {
     "data": {
      "text/plain": [
       "(397, 10)"
      ]
     },
     "execution_count": 33,
     "metadata": {},
     "output_type": "execute_result"
    }
   ],
   "source": [
    "x_train.shape"
   ]
  },
  {
   "cell_type": "code",
   "execution_count": 34,
   "id": "2f7d4991-afb7-4276-9be2-23154179b238",
   "metadata": {},
   "outputs": [
    {
     "data": {
      "text/plain": [
       "(45, 10)"
      ]
     },
     "execution_count": 34,
     "metadata": {},
     "output_type": "execute_result"
    }
   ],
   "source": [
    "x_test.shape "
   ]
  },
  {
   "cell_type": "code",
   "execution_count": 35,
   "id": "698274b2-90ea-4422-a8ca-6df3e7e39514",
   "metadata": {},
   "outputs": [
    {
     "data": {
      "text/html": [
       "<style>#sk-container-id-2 {\n",
       "  /* Definition of color scheme common for light and dark mode */\n",
       "  --sklearn-color-text: black;\n",
       "  --sklearn-color-line: gray;\n",
       "  /* Definition of color scheme for unfitted estimators */\n",
       "  --sklearn-color-unfitted-level-0: #fff5e6;\n",
       "  --sklearn-color-unfitted-level-1: #f6e4d2;\n",
       "  --sklearn-color-unfitted-level-2: #ffe0b3;\n",
       "  --sklearn-color-unfitted-level-3: chocolate;\n",
       "  /* Definition of color scheme for fitted estimators */\n",
       "  --sklearn-color-fitted-level-0: #f0f8ff;\n",
       "  --sklearn-color-fitted-level-1: #d4ebff;\n",
       "  --sklearn-color-fitted-level-2: #b3dbfd;\n",
       "  --sklearn-color-fitted-level-3: cornflowerblue;\n",
       "\n",
       "  /* Specific color for light theme */\n",
       "  --sklearn-color-text-on-default-background: var(--sg-text-color, var(--theme-code-foreground, var(--jp-content-font-color1, black)));\n",
       "  --sklearn-color-background: var(--sg-background-color, var(--theme-background, var(--jp-layout-color0, white)));\n",
       "  --sklearn-color-border-box: var(--sg-text-color, var(--theme-code-foreground, var(--jp-content-font-color1, black)));\n",
       "  --sklearn-color-icon: #696969;\n",
       "\n",
       "  @media (prefers-color-scheme: dark) {\n",
       "    /* Redefinition of color scheme for dark theme */\n",
       "    --sklearn-color-text-on-default-background: var(--sg-text-color, var(--theme-code-foreground, var(--jp-content-font-color1, white)));\n",
       "    --sklearn-color-background: var(--sg-background-color, var(--theme-background, var(--jp-layout-color0, #111)));\n",
       "    --sklearn-color-border-box: var(--sg-text-color, var(--theme-code-foreground, var(--jp-content-font-color1, white)));\n",
       "    --sklearn-color-icon: #878787;\n",
       "  }\n",
       "}\n",
       "\n",
       "#sk-container-id-2 {\n",
       "  color: var(--sklearn-color-text);\n",
       "}\n",
       "\n",
       "#sk-container-id-2 pre {\n",
       "  padding: 0;\n",
       "}\n",
       "\n",
       "#sk-container-id-2 input.sk-hidden--visually {\n",
       "  border: 0;\n",
       "  clip: rect(1px 1px 1px 1px);\n",
       "  clip: rect(1px, 1px, 1px, 1px);\n",
       "  height: 1px;\n",
       "  margin: -1px;\n",
       "  overflow: hidden;\n",
       "  padding: 0;\n",
       "  position: absolute;\n",
       "  width: 1px;\n",
       "}\n",
       "\n",
       "#sk-container-id-2 div.sk-dashed-wrapped {\n",
       "  border: 1px dashed var(--sklearn-color-line);\n",
       "  margin: 0 0.4em 0.5em 0.4em;\n",
       "  box-sizing: border-box;\n",
       "  padding-bottom: 0.4em;\n",
       "  background-color: var(--sklearn-color-background);\n",
       "}\n",
       "\n",
       "#sk-container-id-2 div.sk-container {\n",
       "  /* jupyter's `normalize.less` sets `[hidden] { display: none; }`\n",
       "     but bootstrap.min.css set `[hidden] { display: none !important; }`\n",
       "     so we also need the `!important` here to be able to override the\n",
       "     default hidden behavior on the sphinx rendered scikit-learn.org.\n",
       "     See: https://github.com/scikit-learn/scikit-learn/issues/21755 */\n",
       "  display: inline-block !important;\n",
       "  position: relative;\n",
       "}\n",
       "\n",
       "#sk-container-id-2 div.sk-text-repr-fallback {\n",
       "  display: none;\n",
       "}\n",
       "\n",
       "div.sk-parallel-item,\n",
       "div.sk-serial,\n",
       "div.sk-item {\n",
       "  /* draw centered vertical line to link estimators */\n",
       "  background-image: linear-gradient(var(--sklearn-color-text-on-default-background), var(--sklearn-color-text-on-default-background));\n",
       "  background-size: 2px 100%;\n",
       "  background-repeat: no-repeat;\n",
       "  background-position: center center;\n",
       "}\n",
       "\n",
       "/* Parallel-specific style estimator block */\n",
       "\n",
       "#sk-container-id-2 div.sk-parallel-item::after {\n",
       "  content: \"\";\n",
       "  width: 100%;\n",
       "  border-bottom: 2px solid var(--sklearn-color-text-on-default-background);\n",
       "  flex-grow: 1;\n",
       "}\n",
       "\n",
       "#sk-container-id-2 div.sk-parallel {\n",
       "  display: flex;\n",
       "  align-items: stretch;\n",
       "  justify-content: center;\n",
       "  background-color: var(--sklearn-color-background);\n",
       "  position: relative;\n",
       "}\n",
       "\n",
       "#sk-container-id-2 div.sk-parallel-item {\n",
       "  display: flex;\n",
       "  flex-direction: column;\n",
       "}\n",
       "\n",
       "#sk-container-id-2 div.sk-parallel-item:first-child::after {\n",
       "  align-self: flex-end;\n",
       "  width: 50%;\n",
       "}\n",
       "\n",
       "#sk-container-id-2 div.sk-parallel-item:last-child::after {\n",
       "  align-self: flex-start;\n",
       "  width: 50%;\n",
       "}\n",
       "\n",
       "#sk-container-id-2 div.sk-parallel-item:only-child::after {\n",
       "  width: 0;\n",
       "}\n",
       "\n",
       "/* Serial-specific style estimator block */\n",
       "\n",
       "#sk-container-id-2 div.sk-serial {\n",
       "  display: flex;\n",
       "  flex-direction: column;\n",
       "  align-items: center;\n",
       "  background-color: var(--sklearn-color-background);\n",
       "  padding-right: 1em;\n",
       "  padding-left: 1em;\n",
       "}\n",
       "\n",
       "\n",
       "/* Toggleable style: style used for estimator/Pipeline/ColumnTransformer box that is\n",
       "clickable and can be expanded/collapsed.\n",
       "- Pipeline and ColumnTransformer use this feature and define the default style\n",
       "- Estimators will overwrite some part of the style using the `sk-estimator` class\n",
       "*/\n",
       "\n",
       "/* Pipeline and ColumnTransformer style (default) */\n",
       "\n",
       "#sk-container-id-2 div.sk-toggleable {\n",
       "  /* Default theme specific background. It is overwritten whether we have a\n",
       "  specific estimator or a Pipeline/ColumnTransformer */\n",
       "  background-color: var(--sklearn-color-background);\n",
       "}\n",
       "\n",
       "/* Toggleable label */\n",
       "#sk-container-id-2 label.sk-toggleable__label {\n",
       "  cursor: pointer;\n",
       "  display: block;\n",
       "  width: 100%;\n",
       "  margin-bottom: 0;\n",
       "  padding: 0.5em;\n",
       "  box-sizing: border-box;\n",
       "  text-align: center;\n",
       "}\n",
       "\n",
       "#sk-container-id-2 label.sk-toggleable__label-arrow:before {\n",
       "  /* Arrow on the left of the label */\n",
       "  content: \"▸\";\n",
       "  float: left;\n",
       "  margin-right: 0.25em;\n",
       "  color: var(--sklearn-color-icon);\n",
       "}\n",
       "\n",
       "#sk-container-id-2 label.sk-toggleable__label-arrow:hover:before {\n",
       "  color: var(--sklearn-color-text);\n",
       "}\n",
       "\n",
       "/* Toggleable content - dropdown */\n",
       "\n",
       "#sk-container-id-2 div.sk-toggleable__content {\n",
       "  max-height: 0;\n",
       "  max-width: 0;\n",
       "  overflow: hidden;\n",
       "  text-align: left;\n",
       "  /* unfitted */\n",
       "  background-color: var(--sklearn-color-unfitted-level-0);\n",
       "}\n",
       "\n",
       "#sk-container-id-2 div.sk-toggleable__content.fitted {\n",
       "  /* fitted */\n",
       "  background-color: var(--sklearn-color-fitted-level-0);\n",
       "}\n",
       "\n",
       "#sk-container-id-2 div.sk-toggleable__content pre {\n",
       "  margin: 0.2em;\n",
       "  border-radius: 0.25em;\n",
       "  color: var(--sklearn-color-text);\n",
       "  /* unfitted */\n",
       "  background-color: var(--sklearn-color-unfitted-level-0);\n",
       "}\n",
       "\n",
       "#sk-container-id-2 div.sk-toggleable__content.fitted pre {\n",
       "  /* unfitted */\n",
       "  background-color: var(--sklearn-color-fitted-level-0);\n",
       "}\n",
       "\n",
       "#sk-container-id-2 input.sk-toggleable__control:checked~div.sk-toggleable__content {\n",
       "  /* Expand drop-down */\n",
       "  max-height: 200px;\n",
       "  max-width: 100%;\n",
       "  overflow: auto;\n",
       "}\n",
       "\n",
       "#sk-container-id-2 input.sk-toggleable__control:checked~label.sk-toggleable__label-arrow:before {\n",
       "  content: \"▾\";\n",
       "}\n",
       "\n",
       "/* Pipeline/ColumnTransformer-specific style */\n",
       "\n",
       "#sk-container-id-2 div.sk-label input.sk-toggleable__control:checked~label.sk-toggleable__label {\n",
       "  color: var(--sklearn-color-text);\n",
       "  background-color: var(--sklearn-color-unfitted-level-2);\n",
       "}\n",
       "\n",
       "#sk-container-id-2 div.sk-label.fitted input.sk-toggleable__control:checked~label.sk-toggleable__label {\n",
       "  background-color: var(--sklearn-color-fitted-level-2);\n",
       "}\n",
       "\n",
       "/* Estimator-specific style */\n",
       "\n",
       "/* Colorize estimator box */\n",
       "#sk-container-id-2 div.sk-estimator input.sk-toggleable__control:checked~label.sk-toggleable__label {\n",
       "  /* unfitted */\n",
       "  background-color: var(--sklearn-color-unfitted-level-2);\n",
       "}\n",
       "\n",
       "#sk-container-id-2 div.sk-estimator.fitted input.sk-toggleable__control:checked~label.sk-toggleable__label {\n",
       "  /* fitted */\n",
       "  background-color: var(--sklearn-color-fitted-level-2);\n",
       "}\n",
       "\n",
       "#sk-container-id-2 div.sk-label label.sk-toggleable__label,\n",
       "#sk-container-id-2 div.sk-label label {\n",
       "  /* The background is the default theme color */\n",
       "  color: var(--sklearn-color-text-on-default-background);\n",
       "}\n",
       "\n",
       "/* On hover, darken the color of the background */\n",
       "#sk-container-id-2 div.sk-label:hover label.sk-toggleable__label {\n",
       "  color: var(--sklearn-color-text);\n",
       "  background-color: var(--sklearn-color-unfitted-level-2);\n",
       "}\n",
       "\n",
       "/* Label box, darken color on hover, fitted */\n",
       "#sk-container-id-2 div.sk-label.fitted:hover label.sk-toggleable__label.fitted {\n",
       "  color: var(--sklearn-color-text);\n",
       "  background-color: var(--sklearn-color-fitted-level-2);\n",
       "}\n",
       "\n",
       "/* Estimator label */\n",
       "\n",
       "#sk-container-id-2 div.sk-label label {\n",
       "  font-family: monospace;\n",
       "  font-weight: bold;\n",
       "  display: inline-block;\n",
       "  line-height: 1.2em;\n",
       "}\n",
       "\n",
       "#sk-container-id-2 div.sk-label-container {\n",
       "  text-align: center;\n",
       "}\n",
       "\n",
       "/* Estimator-specific */\n",
       "#sk-container-id-2 div.sk-estimator {\n",
       "  font-family: monospace;\n",
       "  border: 1px dotted var(--sklearn-color-border-box);\n",
       "  border-radius: 0.25em;\n",
       "  box-sizing: border-box;\n",
       "  margin-bottom: 0.5em;\n",
       "  /* unfitted */\n",
       "  background-color: var(--sklearn-color-unfitted-level-0);\n",
       "}\n",
       "\n",
       "#sk-container-id-2 div.sk-estimator.fitted {\n",
       "  /* fitted */\n",
       "  background-color: var(--sklearn-color-fitted-level-0);\n",
       "}\n",
       "\n",
       "/* on hover */\n",
       "#sk-container-id-2 div.sk-estimator:hover {\n",
       "  /* unfitted */\n",
       "  background-color: var(--sklearn-color-unfitted-level-2);\n",
       "}\n",
       "\n",
       "#sk-container-id-2 div.sk-estimator.fitted:hover {\n",
       "  /* fitted */\n",
       "  background-color: var(--sklearn-color-fitted-level-2);\n",
       "}\n",
       "\n",
       "/* Specification for estimator info (e.g. \"i\" and \"?\") */\n",
       "\n",
       "/* Common style for \"i\" and \"?\" */\n",
       "\n",
       ".sk-estimator-doc-link,\n",
       "a:link.sk-estimator-doc-link,\n",
       "a:visited.sk-estimator-doc-link {\n",
       "  float: right;\n",
       "  font-size: smaller;\n",
       "  line-height: 1em;\n",
       "  font-family: monospace;\n",
       "  background-color: var(--sklearn-color-background);\n",
       "  border-radius: 1em;\n",
       "  height: 1em;\n",
       "  width: 1em;\n",
       "  text-decoration: none !important;\n",
       "  margin-left: 1ex;\n",
       "  /* unfitted */\n",
       "  border: var(--sklearn-color-unfitted-level-1) 1pt solid;\n",
       "  color: var(--sklearn-color-unfitted-level-1);\n",
       "}\n",
       "\n",
       ".sk-estimator-doc-link.fitted,\n",
       "a:link.sk-estimator-doc-link.fitted,\n",
       "a:visited.sk-estimator-doc-link.fitted {\n",
       "  /* fitted */\n",
       "  border: var(--sklearn-color-fitted-level-1) 1pt solid;\n",
       "  color: var(--sklearn-color-fitted-level-1);\n",
       "}\n",
       "\n",
       "/* On hover */\n",
       "div.sk-estimator:hover .sk-estimator-doc-link:hover,\n",
       ".sk-estimator-doc-link:hover,\n",
       "div.sk-label-container:hover .sk-estimator-doc-link:hover,\n",
       ".sk-estimator-doc-link:hover {\n",
       "  /* unfitted */\n",
       "  background-color: var(--sklearn-color-unfitted-level-3);\n",
       "  color: var(--sklearn-color-background);\n",
       "  text-decoration: none;\n",
       "}\n",
       "\n",
       "div.sk-estimator.fitted:hover .sk-estimator-doc-link.fitted:hover,\n",
       ".sk-estimator-doc-link.fitted:hover,\n",
       "div.sk-label-container:hover .sk-estimator-doc-link.fitted:hover,\n",
       ".sk-estimator-doc-link.fitted:hover {\n",
       "  /* fitted */\n",
       "  background-color: var(--sklearn-color-fitted-level-3);\n",
       "  color: var(--sklearn-color-background);\n",
       "  text-decoration: none;\n",
       "}\n",
       "\n",
       "/* Span, style for the box shown on hovering the info icon */\n",
       ".sk-estimator-doc-link span {\n",
       "  display: none;\n",
       "  z-index: 9999;\n",
       "  position: relative;\n",
       "  font-weight: normal;\n",
       "  right: .2ex;\n",
       "  padding: .5ex;\n",
       "  margin: .5ex;\n",
       "  width: min-content;\n",
       "  min-width: 20ex;\n",
       "  max-width: 50ex;\n",
       "  color: var(--sklearn-color-text);\n",
       "  box-shadow: 2pt 2pt 4pt #999;\n",
       "  /* unfitted */\n",
       "  background: var(--sklearn-color-unfitted-level-0);\n",
       "  border: .5pt solid var(--sklearn-color-unfitted-level-3);\n",
       "}\n",
       "\n",
       ".sk-estimator-doc-link.fitted span {\n",
       "  /* fitted */\n",
       "  background: var(--sklearn-color-fitted-level-0);\n",
       "  border: var(--sklearn-color-fitted-level-3);\n",
       "}\n",
       "\n",
       ".sk-estimator-doc-link:hover span {\n",
       "  display: block;\n",
       "}\n",
       "\n",
       "/* \"?\"-specific style due to the `<a>` HTML tag */\n",
       "\n",
       "#sk-container-id-2 a.estimator_doc_link {\n",
       "  float: right;\n",
       "  font-size: 1rem;\n",
       "  line-height: 1em;\n",
       "  font-family: monospace;\n",
       "  background-color: var(--sklearn-color-background);\n",
       "  border-radius: 1rem;\n",
       "  height: 1rem;\n",
       "  width: 1rem;\n",
       "  text-decoration: none;\n",
       "  /* unfitted */\n",
       "  color: var(--sklearn-color-unfitted-level-1);\n",
       "  border: var(--sklearn-color-unfitted-level-1) 1pt solid;\n",
       "}\n",
       "\n",
       "#sk-container-id-2 a.estimator_doc_link.fitted {\n",
       "  /* fitted */\n",
       "  border: var(--sklearn-color-fitted-level-1) 1pt solid;\n",
       "  color: var(--sklearn-color-fitted-level-1);\n",
       "}\n",
       "\n",
       "/* On hover */\n",
       "#sk-container-id-2 a.estimator_doc_link:hover {\n",
       "  /* unfitted */\n",
       "  background-color: var(--sklearn-color-unfitted-level-3);\n",
       "  color: var(--sklearn-color-background);\n",
       "  text-decoration: none;\n",
       "}\n",
       "\n",
       "#sk-container-id-2 a.estimator_doc_link.fitted:hover {\n",
       "  /* fitted */\n",
       "  background-color: var(--sklearn-color-fitted-level-3);\n",
       "}\n",
       "</style><div id=\"sk-container-id-2\" class=\"sk-top-container\"><div class=\"sk-text-repr-fallback\"><pre>LinearRegression()</pre><b>In a Jupyter environment, please rerun this cell to show the HTML representation or trust the notebook. <br />On GitHub, the HTML representation is unable to render, please try loading this page with nbviewer.org.</b></div><div class=\"sk-container\" hidden><div class=\"sk-item\"><div class=\"sk-estimator fitted sk-toggleable\"><input class=\"sk-toggleable__control sk-hidden--visually\" id=\"sk-estimator-id-2\" type=\"checkbox\" checked><label for=\"sk-estimator-id-2\" class=\"sk-toggleable__label fitted sk-toggleable__label-arrow fitted\">&nbsp;&nbsp;LinearRegression<a class=\"sk-estimator-doc-link fitted\" rel=\"noreferrer\" target=\"_blank\" href=\"https://scikit-learn.org/1.5/modules/generated/sklearn.linear_model.LinearRegression.html\">?<span>Documentation for LinearRegression</span></a><span class=\"sk-estimator-doc-link fitted\">i<span>Fitted</span></span></label><div class=\"sk-toggleable__content fitted\"><pre>LinearRegression()</pre></div> </div></div></div></div>"
      ],
      "text/plain": [
       "LinearRegression()"
      ]
     },
     "execution_count": 35,
     "metadata": {},
     "output_type": "execute_result"
    }
   ],
   "source": [
    "from sklearn.linear_model import LinearRegression\n",
    "\n",
    "lr=LinearRegression()\n",
    "x_trained=lr.fit(x_train,y_train)\n",
    "x_trained"
   ]
  },
  {
   "cell_type": "code",
   "execution_count": 36,
   "id": "3f682f7f-cd10-46ae-be4a-b49d12e5f859",
   "metadata": {},
   "outputs": [
    {
     "data": {
      "text/plain": [
       "151.7226464572191"
      ]
     },
     "execution_count": 36,
     "metadata": {},
     "output_type": "execute_result"
    }
   ],
   "source": [
    "x_trained.intercept_"
   ]
  },
  {
   "cell_type": "code",
   "execution_count": 37,
   "id": "dcb172ad-b323-4b3d-98f0-7770e16f87e4",
   "metadata": {},
   "outputs": [
    {
     "data": {
      "text/plain": [
       "array([  19.92730105, -262.5526422 ,  509.19584695,  336.09319329,\n",
       "       -849.30479304,  480.22664735,  120.69064852,  236.72228404,\n",
       "        716.61278802,   70.41001991])"
      ]
     },
     "execution_count": 37,
     "metadata": {},
     "output_type": "execute_result"
    }
   ],
   "source": [
    "x_trained.coef_"
   ]
  },
  {
   "cell_type": "code",
   "execution_count": 38,
   "id": "11601c05-216d-4618-b518-7820cac9b232",
   "metadata": {},
   "outputs": [
    {
     "data": {
      "text/plain": [
       "array([143.06549158, 177.7061702 , 134.79901866, 288.67009951,\n",
       "       123.58658064,  96.64279345, 252.70727574, 183.51437294,\n",
       "        93.96679126, 109.83567271,  98.04584067, 168.6157848 ,\n",
       "        58.09603726, 206.59004617, 102.4046759 , 130.25483366,\n",
       "       218.05518616, 245.91819051, 193.24561396, 214.36953807,\n",
       "       208.82839114,  90.55628576,  74.15157442, 187.12342576,\n",
       "       156.3642741 , 157.46594185, 184.17437321, 177.18270901,\n",
       "        52.24311033, 110.66618343, 174.05770617,  90.8969391 ,\n",
       "       133.07838489, 183.22702102, 173.93636697, 189.8528273 ,\n",
       "       125.8627716 , 121.53079768, 148.94645924,  60.82914409,\n",
       "        76.36004131, 106.39774469, 162.2028406 , 153.15220926,\n",
       "       174.23219731])"
      ]
     },
     "execution_count": 38,
     "metadata": {},
     "output_type": "execute_result"
    }
   ],
   "source": [
    "y_pred=x_trained.predict(x_test)\n",
    "y_pred"
   ]
  },
  {
   "cell_type": "code",
   "execution_count": 39,
   "id": "43d38592-0f66-4e8b-b4b2-3e8c983083a3",
   "metadata": {},
   "outputs": [
    {
     "data": {
      "text/plain": [
       "0.5514200923362625"
      ]
     },
     "execution_count": 39,
     "metadata": {},
     "output_type": "execute_result"
    }
   ],
   "source": [
    "from sklearn.metrics import r2_score\n",
    "r2_score(y_test,y_pred)"
   ]
  },
  {
   "cell_type": "code",
   "execution_count": null,
   "id": "549a59c0-6915-4ed7-bfa4-885607f4c282",
   "metadata": {},
   "outputs": [],
   "source": []
  },
  {
   "cell_type": "code",
   "execution_count": 41,
   "id": "75379f00-4bad-44ea-97f4-c67fb99cb7ad",
   "metadata": {},
   "outputs": [],
   "source": [
    "class BatchGradientDescent:\n",
    "    def __init__(self,learning_rate=0.001,epoch=150): \n",
    "        self.lr=learning_rate\n",
    "        self.ep=epoch\n",
    "        self.coeff_=None \n",
    "        self.intercept=None \n",
    "\n",
    "    def fit(self,x,y):\n",
    "        self.intercept=0 \n",
    "        self.coeff_=np.ones(x.shape[1])\n",
    "        \n",
    "        for i in range(self.ep): \n",
    "            y_pred=self.intercept+np.dot(x,self.coeff_)\n",
    "            inter_gradient=-2*np.mean(y-y_pred) \n",
    "            self.intercept=self.intercept-(self.lr*inter_gradient)\n",
    "            coeff_gradient=-2*np.dot((y-y_pred),x)\n",
    "            self.coeff_=self.coeff_-(self.lr*coeff_gradient)\n",
    "        print(self.coeff_,self.intercept,len(self.coeff_))\n",
    "    \n",
    "    def predict(self,x):\n",
    "        return (x*self.coeff_)+self.intercept\n",
    "        "
   ]
  },
  {
   "cell_type": "code",
   "execution_count": 43,
   "id": "e6f01eb5-1c38-4e66-9a7d-d880cb575046",
   "metadata": {},
   "outputs": [
    {
     "name": "stdout",
     "output_type": "stream",
     "text": [
      "[  21.26514018 -260.54145757  518.87162867  333.42381952 -174.18848886\n",
      "  -55.7977805  -175.67860383  154.61338485  463.73909565   72.76724731] 151.75177010792362 10\n"
     ]
    }
   ],
   "source": [
    "bgd=BatchGradientDescent(0.1,100)\n",
    "bgd.fit(x_train,y_train)\n"
   ]
  },
  {
   "cell_type": "code",
   "execution_count": 44,
   "id": "ca8d20d6-4139-4dd3-bf44-698f07ba1ce3",
   "metadata": {},
   "outputs": [
    {
     "data": {
      "text/plain": [
       "array([[152.71595247, 163.38276715, 148.53167658, 146.41733068,\n",
       "        129.97495113, 144.76599394, 148.38102526, 157.05637891,\n",
       "        166.79190678, 151.37193931],\n",
       "       [153.72015619, 163.38276715, 170.90152082, 159.04454443,\n",
       "        156.09954238, 152.68125802, 151.61495021, 145.6455645 ,\n",
       "        141.3099756 , 150.16630044],\n",
       "       [153.10218467, 138.5474981 , 149.65016879, 147.5652592 ,\n",
       "        133.80975352, 149.02940329, 141.91317537, 151.35097171,\n",
       "        190.93379613, 150.46771015],\n",
       "       [153.79740263, 163.38276715, 178.73096631, 178.1805129 ,\n",
       "        142.19838373, 149.71084987, 165.19743498, 173.6020598 ,\n",
       "        197.49873294, 156.1944948 ],\n",
       "       [152.02073452, 138.5474981 , 141.2614772 , 151.00904477,\n",
       "        145.07448552, 148.78478144, 152.90852018, 157.05637891,\n",
       "        149.36713566, 151.07052959],\n",
       "       [151.94348808, 163.38276715, 139.02449277, 142.97354511,\n",
       "        134.52877896, 146.49581987, 139.32603541, 151.35097171,\n",
       "        141.82992874, 152.27616846],\n",
       "       [151.55725588, 138.5474981 , 240.24803799, 156.74868738,\n",
       "        146.51253642, 149.86810677, 155.49566014, 157.05637891,\n",
       "        167.3583598 , 154.08462677],\n",
       "       [151.24827013, 138.5474981 , 175.37548967, 159.04454443,\n",
       "        132.61137777, 146.79286068, 151.61495021, 157.05637891,\n",
       "        186.15699085, 156.1944948 ],\n",
       "       [149.78058778, 138.5474981 , 104.9104803 , 132.64218841,\n",
       "        156.09954238, 153.45006954, 152.90852018, 151.35097171,\n",
       "        162.90705364, 151.97475875],\n",
       "       [150.47580573, 138.5474981 , 159.7165987 , 145.26940216,\n",
       "        145.31416067, 149.06434927, 148.38102526, 151.35097171,\n",
       "        137.49275864, 151.67334903],\n",
       "       [150.86203793, 163.38276715, 134.55052392, 144.12147364,\n",
       "        143.63643463, 149.43128204, 141.91317537, 147.92772738,\n",
       "        139.71629809, 148.96066156],\n",
       "       [151.86624164, 163.38276715, 121.68786348, 144.12147364,\n",
       "        163.52947201, 155.56430123, 161.31672504, 151.35097171,\n",
       "        171.64480277, 145.64515466],\n",
       "       [149.85783422, 163.38276715, 120.01012516, 142.97354511,\n",
       "        161.37239566, 154.7954897 , 144.50031533, 139.9401573 ,\n",
       "        108.18938323, 147.75502269],\n",
       "       [152.1752274 , 138.5474981 , 159.1573526 , 172.8196867 ,\n",
       "        149.14896306, 150.6194453 , 160.02315507, 157.05637891,\n",
       "        173.39066169, 158.30436283],\n",
       "       [151.48000944, 138.5474981 , 122.80635569, 151.00904477,\n",
       "        156.57889268, 153.38017759, 148.38102526, 145.6455645 ,\n",
       "        143.84210513, 154.98885593],\n",
       "       [151.01653081, 138.5474981 , 154.68338375, 149.86111625,\n",
       "        164.4881726 , 155.24978742, 152.90852018, 145.6455645 ,\n",
       "        130.68686793, 154.08462677],\n",
       "       [152.63870604, 138.5474981 , 188.79739622, 154.45283034,\n",
       "        145.07448552, 150.86406715, 154.84887515, 157.05637891,\n",
       "        185.79344637, 158.00295311],\n",
       "       [153.10218467, 138.5474981 , 197.74533392, 175.11554374,\n",
       "        148.19026246, 149.6584309 , 160.66994006, 162.76178611,\n",
       "        165.33772889, 157.09872396],\n",
       "       [151.09377725, 138.5474981 , 166.42755198, 175.11554374,\n",
       "        173.83550342, 157.71347889, 161.31672504, 144.33332085,\n",
       "        137.49275864, 152.8789879 ],\n",
       "       [152.79319891, 138.5474981 , 182.08644295, 175.11554374,\n",
       "        149.38863821, 150.60197231, 155.49566014, 157.05637891,\n",
       "        161.95591984, 153.78321706],\n",
       "       [150.24406641, 163.38276715, 172.02001304, 140.67768807,\n",
       "        153.94246604, 153.6772184 , 156.14244513, 151.35097171,\n",
       "        183.16408984, 150.76911987],\n",
       "       [152.79319891, 163.38276715, 129.51730897, 133.79011693,\n",
       "        143.87610978, 148.95951133, 145.7938853 , 151.35097171,\n",
       "        139.71629809, 147.15220325],\n",
       "       [150.86203793, 163.38276715, 126.16183233, 139.52975955,\n",
       "        152.98376544, 153.01324481, 136.73889545, 145.6455645 ,\n",
       "        120.91766704, 152.27616846],\n",
       "       [153.02493823, 138.5474981 , 163.63132144, 168.22797261,\n",
       "        148.90928791, 151.09121601, 154.20209016, 151.35097171,\n",
       "        170.0891706 , 153.18039762],\n",
       "       [150.47580573, 163.38276715, 174.81624357, 145.26940216,\n",
       "        153.46311574, 152.17454133, 147.73424027, 145.6455645 ,\n",
       "        139.17098138, 151.07052959],\n",
       "       [152.63870604, 138.5474981 , 159.1573526 , 165.93211556,\n",
       "        157.05824298, 151.82508155, 159.37637008, 151.35097171,\n",
       "        136.33448904, 152.8789879 ],\n",
       "       [152.40696672, 138.5474981 , 182.64568905, 170.52382965,\n",
       "        155.62019208, 151.68529764, 157.43601511, 151.35097171,\n",
       "        140.25316027, 150.46771015],\n",
       "       [152.5614596 , 138.5474981 , 142.37996941, 173.96761522,\n",
       "        160.65337022, 152.68125802, 165.19743498, 157.05637891,\n",
       "        146.23473503, 150.76911987],\n",
       "       [150.55305217, 163.38276715, 113.29917189, 134.93804546,\n",
       "        156.09954238, 154.37613797, 135.44532548, 139.9401573 ,\n",
       "        123.38216038, 148.35784213],\n",
       "       [152.09798096, 138.5474981 , 140.70223109, 148.71318773,\n",
       "        145.79351097, 149.08182226, 151.61495021, 151.35097171,\n",
       "        145.76550902, 153.48180734],\n",
       "       [152.32972028, 163.38276715, 199.98231835, 134.16893335,\n",
       "        150.3473388 , 149.53611998, 156.78923012, 155.00243232,\n",
       "        129.32568979, 153.18039762],\n",
       "       [149.54884846, 163.38276715, 132.3135395 , 142.97354511,\n",
       "        151.3060394 , 150.63691829, 149.67459524, 151.35097171,\n",
       "        120.06376025, 149.86489072],\n",
       "       [151.71174876, 138.5474981 , 159.1573526 , 126.9025458 ,\n",
       "        151.3060394 , 151.40572981, 154.20209016, 151.35097171,\n",
       "        160.65392336, 151.97475875],\n",
       "       [152.32972028, 138.5474981 , 148.53167658, 161.34040147,\n",
       "        154.66149149, 151.84255454, 161.96351003, 157.05637891,\n",
       "        165.33772889, 154.08462677],\n",
       "       [153.79740263, 163.38276715, 172.57925914, 132.64218841,\n",
       "        143.87610978, 148.3654297 , 155.49566014, 157.34164927,\n",
       "        157.57224986, 153.48180734],\n",
       "       [150.08957354, 138.5474981 , 192.15287286, 169.37590113,\n",
       "        138.1239062 , 148.15575383, 147.08745528, 151.35097171,\n",
       "        170.61335101, 151.07052959],\n",
       "       [151.55725588, 138.5474981 , 135.66901614, 142.97354511,\n",
       "        153.70279089, 151.80760856, 155.49566014, 151.35097171,\n",
       "        154.63007599, 153.78321706],\n",
       "       [151.71174876, 138.5474981 , 134.55052392, 145.64821857,\n",
       "        146.27286127, 149.36139008, 154.20209016, 154.8312701 ,\n",
       "        156.49429823, 153.78321706],\n",
       "       [153.17943111, 138.5474981 , 135.66901614, 153.30490182,\n",
       "        147.47123701, 149.76326883, 156.78923012, 157.05637891,\n",
       "        162.59000904, 157.70154339],\n",
       "       [152.1752274 , 163.38276715, 121.68786348, 132.64218841,\n",
       "        152.02506485, 152.45410916, 138.67925042, 145.6455645 ,\n",
       "        123.38216038, 146.2479741 ],\n",
       "       [151.71174876, 163.38276715, 115.53615631, 147.5652592 ,\n",
       "        151.7853897 , 152.26190628, 139.32603541, 145.6455645 ,\n",
       "        122.57475347, 154.68744621],\n",
       "       [153.17943111, 138.5474981 , 136.22826224, 170.90264606,\n",
       "        151.7853897 , 152.62883905, 138.67925042, 143.93394234,\n",
       "        133.91649557, 152.27616846],\n",
       "       [152.63870604, 138.5474981 , 140.14298499, 161.34040147,\n",
       "        163.28979686, 154.27130003, 162.61029502, 151.35097171,\n",
       "        153.07867109, 147.75502269],\n",
       "       [154.10638838, 138.5474981 , 134.55052392, 144.12147364,\n",
       "        152.50441515, 150.6194453 , 162.61029502, 162.76178611,\n",
       "        158.97147336, 154.98885593],\n",
       "       [152.63870604, 163.38276715, 128.39881676, 163.25744211,\n",
       "        144.11578493, 152.62883905, 145.14710031, 149.5252414 ,\n",
       "        193.44056208, 152.27616846]])"
      ]
     },
     "execution_count": 44,
     "metadata": {},
     "output_type": "execute_result"
    }
   ],
   "source": [
    "y_pred=bgd.predict(x_test)"
   ]
  },
  {
   "cell_type": "code",
   "execution_count": 46,
   "id": "bc289317-3ae0-4116-883b-d2a725afb3ba",
   "metadata": {},
   "outputs": [
    {
     "data": {
      "text/plain": [
       "0.5514200923362625"
      ]
     },
     "execution_count": 46,
     "metadata": {},
     "output_type": "execute_result"
    }
   ],
   "source": [
    "r2_score(y_test,y_pred)"
   ]
  },
  {
   "cell_type": "code",
   "execution_count": null,
   "id": "bc7bc3fa-3860-4d5b-9921-8adfea6d30e4",
   "metadata": {
    "lines_to_next_cell": 2
   },
   "outputs": [],
   "source": []
  }
 ],
 "metadata": {
  "jupytext": {
   "formats": "ipynb,py:light"
  },
  "kernelspec": {
   "display_name": "Python 3 (ipykernel)",
   "language": "python",
   "name": "python3"
  },
  "language_info": {
   "codemirror_mode": {
    "name": "ipython",
    "version": 3
   },
   "file_extension": ".py",
   "mimetype": "text/x-python",
   "name": "python",
   "nbconvert_exporter": "python",
   "pygments_lexer": "ipython3",
   "version": "3.12.2"
  }
 },
 "nbformat": 4,
 "nbformat_minor": 5
}
